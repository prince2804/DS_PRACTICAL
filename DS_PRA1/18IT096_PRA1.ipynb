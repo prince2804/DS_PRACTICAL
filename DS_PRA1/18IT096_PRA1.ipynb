{
  "nbformat": 4,
  "nbformat_minor": 0,
  "metadata": {
    "kernelspec": {
      "display_name": "Python 3",
      "language": "python",
      "name": "python3"
    },
    "language_info": {
      "codemirror_mode": {
        "name": "ipython",
        "version": 3
      },
      "file_extension": ".py",
      "mimetype": "text/x-python",
      "name": "python",
      "nbconvert_exporter": "python",
      "pygments_lexer": "ipython3",
      "version": "3.8.3"
    },
    "colab": {
      "name": "DS_pract1.ipynb",
      "provenance": [],
      "collapsed_sections": []
    }
  },
  "cells": [
    {
      "cell_type": "code",
      "metadata": {
        "colab": {
          "base_uri": "https://localhost:8080/"
        },
        "id": "96t8VbJx5whP",
        "outputId": "870d651d-23ed-4957-89ed-74c007521a3c"
      },
      "source": [
        "pip install pandas"
      ],
      "execution_count": 1,
      "outputs": [
        {
          "output_type": "stream",
          "text": [
            "Requirement already satisfied: pandas in /usr/local/lib/python3.7/dist-packages (1.1.5)\n",
            "Requirement already satisfied: python-dateutil>=2.7.3 in /usr/local/lib/python3.7/dist-packages (from pandas) (2.8.1)\n",
            "Requirement already satisfied: numpy>=1.15.4 in /usr/local/lib/python3.7/dist-packages (from pandas) (1.19.5)\n",
            "Requirement already satisfied: pytz>=2017.2 in /usr/local/lib/python3.7/dist-packages (from pandas) (2018.9)\n",
            "Requirement already satisfied: six>=1.5 in /usr/local/lib/python3.7/dist-packages (from python-dateutil>=2.7.3->pandas) (1.15.0)\n"
          ],
          "name": "stdout"
        }
      ]
    },
    {
      "cell_type": "code",
      "metadata": {
        "colab": {
          "base_uri": "https://localhost:8080/"
        },
        "id": "LWZSSk-O5whQ",
        "outputId": "6a509a2b-ff9b-4873-fc86-828acf923737"
      },
      "source": [
        "pip install requests"
      ],
      "execution_count": 2,
      "outputs": [
        {
          "output_type": "stream",
          "text": [
            "Requirement already satisfied: requests in /usr/local/lib/python3.7/dist-packages (2.23.0)\n",
            "Requirement already satisfied: idna<3,>=2.5 in /usr/local/lib/python3.7/dist-packages (from requests) (2.10)\n",
            "Requirement already satisfied: certifi>=2017.4.17 in /usr/local/lib/python3.7/dist-packages (from requests) (2021.5.30)\n",
            "Requirement already satisfied: urllib3!=1.25.0,!=1.25.1,<1.26,>=1.21.1 in /usr/local/lib/python3.7/dist-packages (from requests) (1.24.3)\n",
            "Requirement already satisfied: chardet<4,>=3.0.2 in /usr/local/lib/python3.7/dist-packages (from requests) (3.0.4)\n"
          ],
          "name": "stdout"
        }
      ]
    },
    {
      "cell_type": "code",
      "metadata": {
        "colab": {
          "base_uri": "https://localhost:8080/"
        },
        "id": "QGRXsIWu5whR",
        "outputId": "122a8bd8-a628-445d-9d45-d6fb18e02929"
      },
      "source": [
        "pip install bs4"
      ],
      "execution_count": 3,
      "outputs": [
        {
          "output_type": "stream",
          "text": [
            "Requirement already satisfied: bs4 in /usr/local/lib/python3.7/dist-packages (0.0.1)\n",
            "Requirement already satisfied: beautifulsoup4 in /usr/local/lib/python3.7/dist-packages (from bs4) (4.6.3)\n"
          ],
          "name": "stdout"
        }
      ]
    },
    {
      "cell_type": "code",
      "metadata": {
        "id": "vUxbgxcP5whR"
      },
      "source": [
        "from bs4 import BeautifulSoup \n",
        "\n",
        "import requests \n",
        "\n",
        "import csv\n",
        "\n",
        "import pandas as pd"
      ],
      "execution_count": 4,
      "outputs": []
    },
    {
      "cell_type": "code",
      "metadata": {
        "id": "SpjM5QZe5whR"
      },
      "source": [
        "url='https://www.nike.com/in/w/mens-shoes-nik1zy7ok'"
      ],
      "execution_count": 10,
      "outputs": []
    },
    {
      "cell_type": "code",
      "metadata": {
        "id": "JX49gKxO5whS"
      },
      "source": [
        "req=requests.get(url)"
      ],
      "execution_count": 11,
      "outputs": []
    },
    {
      "cell_type": "code",
      "metadata": {
        "id": "FGHoyGdT5whS"
      },
      "source": [
        "content=BeautifulSoup(req.content,'html.parser')"
      ],
      "execution_count": 12,
      "outputs": []
    },
    {
      "cell_type": "code",
      "metadata": {
        "id": "f1BUINrl5whS"
      },
      "source": [
        "name=content.find_all('div',{\"class\":\"product-card__titles\"})\n",
        "price=content.find_all('div',{\"class\":\"product-card__price\"})"
      ],
      "execution_count": 22,
      "outputs": []
    },
    {
      "cell_type": "code",
      "metadata": {
        "id": "4_4ktxGP5whS"
      },
      "source": [
        "nm=[]\n",
        "pr=[]\n"
      ],
      "execution_count": 24,
      "outputs": []
    },
    {
      "cell_type": "code",
      "metadata": {
        "id": "wKPV_elP5whT"
      },
      "source": [
        "for i in name:\n",
        "    nm.append(i.text)\n",
        "for i in price:\n",
        "    pr.append(i.text)"
      ],
      "execution_count": 25,
      "outputs": []
    },
    {
      "cell_type": "code",
      "metadata": {
        "id": "gEf-Iv-_5whT"
      },
      "source": [
        "data={'NAME':nm,'PRICE':pr}\n",
        "df=pd.DataFrame(data)"
      ],
      "execution_count": 26,
      "outputs": []
    },
    {
      "cell_type": "code",
      "metadata": {
        "colab": {
          "base_uri": "https://localhost:8080/"
        },
        "id": "be3An5Bn5whT",
        "outputId": "ff205a81-9e12-4865-d2a1-2adfec5e2c58"
      },
      "source": [
        "print(df)"
      ],
      "execution_count": 27,
      "outputs": [
        {
          "output_type": "stream",
          "text": [
            "                                                 NAME     PRICE\n",
            "0                     Nike Air Force 1 '07Men's Shoes   ₹ 8,195\n",
            "1                      Nike Air Force 1 '07Men's Shoe   ₹ 7,495\n",
            "2            Nike Court Vision Low PremiumMen's Shoes   ₹ 5,995\n",
            "3   Nike ZoomX Vaporfly Next% x GyakusouRunning Shoes  ₹ 24,995\n",
            "4                Nike Air Force 1 '07 CraftMen's Shoe  ₹ 10,295\n",
            "5                          Nike Waffle OneMen's Shoes   ₹ 8,295\n",
            "6                          Nike Air Max 90Men's Shoes  ₹ 10,295\n",
            "7                   Nike Blazer Low '77 PRMMen's Shoe   ₹ 8,295\n",
            "8                       Nike Blazer Mid '77Men's Shoe   ₹ 9,295\n",
            "9                            Jordan Delta 2Men's Shoe  ₹ 11,495\n",
            "10                                Jordan Air NFHShoes   ₹ 9,295\n",
            "11                         Nike Air Max 95Men's Shoes  ₹ 14,495\n",
            "12           Jordan Why Not? Zer0.4 PFBasketball Shoe  ₹ 11,495\n",
            "13                       Nike Air HuaracheMen's Shoes  ₹ 10,295\n",
            "14                        Nike On DeckMen's Flip-Flop   ₹ 1,695\n",
            "15                  Kyrie Flytrap 4 EPBasketball Shoe   ₹ 8,195\n",
            "16                 Nike Air Force 1 '07 LV8Men's Shoe   ₹ 8,295\n",
            "17                     Nike Venture RunnerMen's Shoes   ₹ 5,495\n",
            "18                      Nike Air Max 90 SEMen's Shoes  ₹ 11,495\n",
            "19                      Nike Air Max 97 SEMen's Shoes  ₹ 16,595\n",
            "20                  Nike Air Max Pre-Day LXMen's Shoe  ₹ 12,495\n",
            "21                  Nike Air Force 1 '07 PremiumShoes  ₹ 11,495\n",
            "22                          Nike OffcourtMen's Slides   ₹ 2,995\n",
            "23                    Nike Waffle Trainer 2Men's Shoe   ₹ 8,295\n"
          ],
          "name": "stdout"
        }
      ]
    },
    {
      "cell_type": "code",
      "metadata": {
        "id": "m-lJnxau5whU"
      },
      "source": [
        "df.to_csv('18it096_princepatel.csv')"
      ],
      "execution_count": 28,
      "outputs": []
    },
    {
      "cell_type": "code",
      "metadata": {
        "id": "NllrT31Z5whU"
      },
      "source": [
        ""
      ],
      "execution_count": null,
      "outputs": []
    }
  ]
}