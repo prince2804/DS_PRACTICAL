{
 "cells": [
  {
   "cell_type": "code",
   "execution_count": 1,
   "metadata": {},
   "outputs": [
    {
     "name": "stdout",
     "output_type": "stream",
     "text": [
      "Requirement already satisfied: pandas in c:\\users\\admin\\anaconda3\\lib\\site-packages (1.0.5)\n",
      "Requirement already satisfied: pytz>=2017.2 in c:\\users\\admin\\anaconda3\\lib\\site-packages (from pandas) (2020.1)\n",
      "Requirement already satisfied: numpy>=1.13.3 in c:\\users\\admin\\anaconda3\\lib\\site-packages (from pandas) (1.18.5)\n",
      "Requirement already satisfied: python-dateutil>=2.6.1 in c:\\users\\admin\\anaconda3\\lib\\site-packages (from pandas) (2.8.1)\n",
      "Requirement already satisfied: six>=1.5 in c:\\users\\admin\\anaconda3\\lib\\site-packages (from python-dateutil>=2.6.1->pandas) (1.15.0)\n",
      "Note: you may need to restart the kernel to use updated packages.\n"
     ]
    }
   ],
   "source": [
    "pip install pandas"
   ]
  },
  {
   "cell_type": "code",
   "execution_count": 2,
   "metadata": {},
   "outputs": [
    {
     "name": "stdout",
     "output_type": "stream",
     "text": [
      "Requirement already satisfied: requests in c:\\users\\admin\\anaconda3\\lib\\site-packages (2.24.0)Note: you may need to restart the kernel to use updated packages.\n",
      "Requirement already satisfied: urllib3!=1.25.0,!=1.25.1,<1.26,>=1.21.1 in c:\\users\\admin\\anaconda3\\lib\\site-packages (from requests) (1.25.9)\n",
      "Requirement already satisfied: chardet<4,>=3.0.2 in c:\\users\\admin\\anaconda3\\lib\\site-packages (from requests) (3.0.4)\n",
      "Requirement already satisfied: certifi>=2017.4.17 in c:\\users\\admin\\anaconda3\\lib\\site-packages (from requests) (2020.6.20)\n",
      "Requirement already satisfied: idna<3,>=2.5 in c:\\users\\admin\\anaconda3\\lib\\site-packages (from requests) (2.10)\n",
      "\n"
     ]
    }
   ],
   "source": [
    "pip install requests"
   ]
  },
  {
   "cell_type": "code",
   "execution_count": 3,
   "metadata": {},
   "outputs": [
    {
     "name": "stdout",
     "output_type": "stream",
     "text": [
      "Requirement already satisfied: bs4 in c:\\users\\admin\\anaconda3\\lib\\site-packages (0.0.1)\n",
      "Requirement already satisfied: beautifulsoup4 in c:\\users\\admin\\anaconda3\\lib\\site-packages (from bs4) (4.9.1)\n",
      "Requirement already satisfied: soupsieve>1.2 in c:\\users\\admin\\anaconda3\\lib\\site-packages (from beautifulsoup4->bs4) (2.0.1)\n",
      "Note: you may need to restart the kernel to use updated packages.\n"
     ]
    }
   ],
   "source": [
    "pip install bs4"
   ]
  },
  {
   "cell_type": "code",
   "execution_count": 4,
   "metadata": {},
   "outputs": [],
   "source": [
    "from bs4 import BeautifulSoup \n",
    "\n",
    "import requests \n",
    "\n",
    "import csv\n",
    "\n",
    "import pandas as pd"
   ]
  },
  {
   "cell_type": "code",
   "execution_count": 5,
   "metadata": {},
   "outputs": [],
   "source": [
    "url='https://www.flipkart.com/mobiles/pr?sid=tyy%2C4io&p%5B%5D=facets.brand%255B%255D%3DAsus&otracker=nmenu_sub_Electronics_0_Asus'"
   ]
  },
  {
   "cell_type": "code",
   "execution_count": 6,
   "metadata": {},
   "outputs": [],
   "source": [
    "req=requests.get(url)"
   ]
  },
  {
   "cell_type": "code",
   "execution_count": 7,
   "metadata": {},
   "outputs": [],
   "source": [
    "content=BeautifulSoup(req.content,'html.parser')"
   ]
  },
  {
   "cell_type": "code",
   "execution_count": 8,
   "metadata": {},
   "outputs": [],
   "source": [
    "name=content.find_all('div',{\"class\":\"_4rR01T\"})\n",
    "price=content.find_all('div',{\"class\":\"_30jeq3 _1_WHN1\"})\n",
    "rating=content.find_all('div',{\"class\":\"_3LWZlK\"})"
   ]
  },
  {
   "cell_type": "code",
   "execution_count": 9,
   "metadata": {},
   "outputs": [],
   "source": [
    "nm=[]\n",
    "pr=[]\n",
    "rt=[]"
   ]
  },
  {
   "cell_type": "code",
   "execution_count": 10,
   "metadata": {},
   "outputs": [],
   "source": [
    "for i in name:\n",
    "    nm.append(i.text)\n",
    "for i in price:\n",
    "    pr.append(i.text)\n",
    "for i in rating:\n",
    "    rt.append(i.text)"
   ]
  },
  {
   "cell_type": "code",
   "execution_count": 11,
   "metadata": {},
   "outputs": [],
   "source": [
    "data={'NAME':nm,'PRICE':pr,'RATING':rt}\n",
    "df=pd.DataFrame(data)"
   ]
  },
  {
   "cell_type": "code",
   "execution_count": 12,
   "metadata": {},
   "outputs": [
    {
     "name": "stdout",
     "output_type": "stream",
     "text": [
      "                                       NAME    PRICE RATING\n",
      "0          ASUS ROG Phone 5 (Black, 256 GB)  ₹57,999    4.6\n",
      "1          ASUS ROG Phone 5 (Black, 128 GB)  ₹49,999    4.4\n",
      "2          ASUS ROG Phone 3 (Black, 128 GB)  ₹46,999    4.4\n",
      "3   ASUS ZenFone 5Z (Midnight Blue, 128 GB)  ₹36,299    4.5\n",
      "4          ASUS ROG Phone 3 (Black, 128 GB)  ₹49,999    4.4\n",
      "5   ASUS ZenFone 5Z (Meteor Silver, 128 GB)  ₹36,299    4.5\n",
      "6     ASUS Zenfone Max Pro M1 (Grey, 32 GB)  ₹13,199    4.3\n",
      "7       ASUS Zenfone Selfie (Silver, 16 GB)  ₹14,999    3.9\n",
      "8     ASUS Zenfone Max Pro M1 (Grey, 64 GB)  ₹17,999    4.3\n",
      "9              ASUS Zenfone Go (Gold, 8 GB)   ₹5,299    3.8\n",
      "10        ASUS Zenfone Go 5.5 (Gold, 32 GB)   ₹6,999    3.7\n",
      "11    ASUS Zenfone Go (2nd Gen) (Red, 8 GB)   ₹5,299    3.7\n",
      "12           ASUS Zenfone Go (Silver, 8 GB)   ₹5,299    3.8\n",
      "13       ASUS ZenFone Lite L1 (Gold, 16 GB)   ₹7,199    4.2\n",
      "14      ASUS ZenFone Lite L1 (Black, 16 GB)   ₹7,199    4.2\n",
      "15                 ASUS ROG (Black, 128 GB)  ₹26,499    4.3\n",
      "16        ASUS Zenfone Go 5.0 (Black, 8 GB)   ₹7,999      4\n",
      "17   ASUS Zenfone Selfie (Aqua Blue, 32 GB)  ₹16,999      4\n",
      "18           ASUS Zenfone Go (Silver, 8 GB)   ₹5,699    3.8\n",
      "19      ASUS Zenfone Go 4.5 LTE (Red, 8 GB)   ₹7,499    3.6\n",
      "20         ASUS Zenfone Go 4.5 (Pink, 8 GB)   ₹5,299    3.9\n",
      "21      ASUS Zenfone Go (Silver Blue, 8 GB)   ₹5,699    3.8\n",
      "22               ASUS Zenfone C (Red, 8 GB)   ₹6,299    3.8\n",
      "23         ASUS ROG Phone 5 (White, 128 GB)  ₹49,999    4.4\n"
     ]
    }
   ],
   "source": [
    "print(df)"
   ]
  },
  {
   "cell_type": "code",
   "execution_count": null,
   "metadata": {},
   "outputs": [],
   "source": [
    "df.to_csv('18it088_Jaypatel.csv')"
   ]
  },
  {
   "cell_type": "code",
   "execution_count": null,
   "metadata": {},
   "outputs": [],
   "source": []
  }
 ],
 "metadata": {
  "kernelspec": {
   "display_name": "Python 3",
   "language": "python",
   "name": "python3"
  },
  "language_info": {
   "codemirror_mode": {
    "name": "ipython",
    "version": 3
   },
   "file_extension": ".py",
   "mimetype": "text/x-python",
   "name": "python",
   "nbconvert_exporter": "python",
   "pygments_lexer": "ipython3",
   "version": "3.8.3"
  }
 },
 "nbformat": 4,
 "nbformat_minor": 4
}
